{
  "nbformat": 4,
  "nbformat_minor": 0,
  "metadata": {
    "colab": {
      "name": "Untitled2.ipynb",
      "provenance": []
    },
    "kernelspec": {
      "name": "python3",
      "display_name": "Python 3"
    },
    "language_info": {
      "name": "python"
    }
  },
  "cells": [
    {
      "cell_type": "markdown",
      "source": [
        " Instalar e importar a biblioteca dlib, além de todas as outras bibliotecas necessárias;\n",
        "2. Carregar o detector de faces da dlib;\n",
        "3. Fazer o upload do modelo de marcações faciais (5 ou 68 marcos, você escolhe). Carregar o modelo de marcos faciais escolhido. Lembre-se de que tal modelo está disponível na seção \"Detecção de Faces e Biometria Facial\" do AVA;\n",
        "4. Carregar uma imagem contendo uma ou mais faces aproximadamente em posição frontal do rosto;\n",
        "\n",
        "6. A partir dos retângulos envolventes das faces encontradas, chamar o detector de marcos faciais de cada face, e desenhar um círculo VERMELHO em cima de cada marco facial;\n",
        "7. Depois de encontrar os marcos faciais, desenhar um círculo centrado no ponto médio da face, lembrando que esse ponto possui coordenadas x e y dadas por: x=(l+r)/2  e y=(t+b)/2. O raio do círculo deve ser (r-l)/2.\n",
        "8 DOCUMENTAR TODO O CÓDIGO. CÓDIGO SEM DOCUMENTAÇÃO, AINDA QUE CORRETO, NÃO SERÁ CONSIDERADO."
      ],
      "metadata": {
        "id": "n9pAD3WI3u66"
      }
    },
    {
      "cell_type": "code",
      "execution_count": null,
      "metadata": {
        "id": "jnC4dS_Ezhqu"
      },
      "outputs": [],
      "source": [
        "#Comandos para importação de bibliotecas\n",
        "from PIL import Image\n",
        "\n",
        "#Comandos para importação da biblioteca que realiza a conversão de float para int\n",
        "from math import trunc\n",
        "import cv2\n",
        "from google.colab.patches import cv2_imshow\n",
        "\n",
        "#Comandos para importação da biblioteca que realiza a detecção de rostos\n",
        "import dlib\n",
        "\n",
        "#Comandos para carregamento do detector facial\n",
        "detector_rosto = dlib.get_frontal_face_detector()\n",
        "\n",
        "#Comando para carregamento da imagem a ser utilizada\n",
        "Rostos = cv2.imread('rostos.jpg')\n",
        "\n",
        "#Comando para carregamneto do detector facial a ser utilizado (detector de 68 pontos)\n",
        "pontos_faciais = dlib.shape_predictor('shape_predictor_68_face_landmarks.dat')\n",
        "\n",
        "#Comando para detecção da face a ser encontrada\n",
        "Rostos_encontrados = detector_rosto(Rostos, 1)\n",
        "\n",
        "#Comando de criação de loop para que seja aplicado em todas as faces da imagem selecionada\n",
        "for rosto in Rostos_encontrados:\n",
        "  pontosDetectados = pontos_faciais(Rostos,rosto)\n",
        "\n",
        "  #Comando para alteração dos pontos detectados pelo detector de pontos faciais, assim alterando a cor dos land marks para vermelho\n",
        "  for pontos in pontosDetectados.parts():\n",
        "    cv2.circle(Rostos, (pontos.x, pontos.y), 2, (0,0,255), 1)\n",
        "\n",
        "  #Comando para inserção de um circulo no centro do rosto com o tamanho de raio igual a media dos land marks encontrados anteriormente.\n",
        "  l,t,r,b = rosto.left(), rosto.top(), rosto.right(), rosto.bottom()\n",
        "  cv2.circle(Rostos, (trunc((l+r)/2),trunc((t+b)/2)), trunc(((r-l)/2)), (255,255,255), 2 )\n",
        "\n",
        "\n",
        "#Comando para demonstração do resultado final obtido\n",
        "cv2_imshow(Rostos)"
      ]
    }
  ]
}